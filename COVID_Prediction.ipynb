{
  "nbformat": 4,
  "nbformat_minor": 0,
  "metadata": {
    "colab": {
      "name": "Aricle submit_flipr_covid_19_prob1_.ipynb",
      "provenance": [],
      "private_outputs": true,
      "collapsed_sections": []
    },
    "kernelspec": {
      "name": "python3",
      "display_name": "Python 3"
    },
    "accelerator": "GPU"
  },
  "cells": [
    {
      "cell_type": "code",
      "metadata": {
        "id": "5cD6YJ0fX-DB",
        "colab_type": "code",
        "colab": {}
      },
      "source": [
        "!pip install -q sklearn"
      ],
      "execution_count": 0,
      "outputs": []
    },
    {
      "cell_type": "code",
      "metadata": {
        "id": "II7fDMBDZUoo",
        "colab_type": "code",
        "colab": {}
      },
      "source": [
        "!pip install git+https://github.com/tensorflow/docs\n",
        "import tensorflow_docs as tfdocs\n",
        "import tensorflow_docs.plots\n",
        "import tensorflow_docs.modeling"
      ],
      "execution_count": 0,
      "outputs": []
    },
    {
      "cell_type": "code",
      "metadata": {
        "id": "fBj0GoVoYnNC",
        "colab_type": "code",
        "colab": {}
      },
      "source": [
        "from __future__ import absolute_import, division, print_function, unicode_literals\n",
        "\n",
        "import numpy as np\n",
        "import pandas as pd\n",
        "import os\n",
        "try:\n",
        "  # The %tensorflow_version magic only works in colab.\n",
        "  %tensorflow_version 2.x\n",
        "except Exception:\n",
        "  pass\n",
        "import tensorflow as tf\n",
        "from tensorflow import keras\n",
        "from tensorflow import feature_column\n",
        "from tensorflow.keras import layers\n",
        "from sklearn.model_selection import train_test_split"
      ],
      "execution_count": 0,
      "outputs": []
    },
    {
      "cell_type": "code",
      "metadata": {
        "id": "UsnpkLKHzc4j",
        "colab_type": "code",
        "colab": {}
      },
      "source": [
        "from google.colab import drive\n",
        "drive.mount('/content/drive')"
      ],
      "execution_count": 0,
      "outputs": []
    },
    {
      "cell_type": "code",
      "metadata": {
        "id": "d0rfnblEgV5J",
        "colab_type": "code",
        "colab": {}
      },
      "source": [
        "#set path of training data according to your directory structure\n",
        "URL = '/content/drive/My Drive/Dataset/flipr covid19 dataset/Train_dataset.csv' \n",
        "dataframe = pd.read_csv(URL)\n",
        "dataframe.head()"
      ],
      "execution_count": 0,
      "outputs": []
    },
    {
      "cell_type": "code",
      "metadata": {
        "id": "DNy4BcZDneRO",
        "colab_type": "code",
        "colab": {}
      },
      "source": [
        "#set path of test data according to your directory structure\n",
        "testUrl = '/content/drive/My Drive/Dataset/flipr covid19 dataset/Test_dataset.csv' \n",
        "testDataframe = pd.read_csv(testUrl)\n",
        "testDataframe.head()"
      ],
      "execution_count": 0,
      "outputs": []
    },
    {
      "cell_type": "code",
      "metadata": {
        "id": "RWr9-6Lans8d",
        "colab_type": "code",
        "colab": {}
      },
      "source": [
        "peopleId= testDataframe['people_ID']"
      ],
      "execution_count": 0,
      "outputs": []
    },
    {
      "cell_type": "code",
      "metadata": {
        "id": "tFbcYYbTq6PD",
        "colab_type": "code",
        "colab": {}
      },
      "source": [
        "peopleId.head()"
      ],
      "execution_count": 0,
      "outputs": []
    },
    {
      "cell_type": "code",
      "metadata": {
        "id": "BCrNhU7Eg0nz",
        "colab_type": "code",
        "colab": {}
      },
      "source": [
        "dataframe.dtypes\n",
        "df = dataframe"
      ],
      "execution_count": 0,
      "outputs": []
    },
    {
      "cell_type": "code",
      "metadata": {
        "id": "ISheUsntneyL",
        "colab_type": "code",
        "colab": {}
      },
      "source": [
        "def cleanData(dataframe):\n",
        "  df2 = dataframe\n",
        "  Gender = pd.get_dummies(df2.Gender, prefix='Gender')\n",
        "  Occupation=pd.get_dummies(df2.Occupation,prefix='Occupation')\n",
        "  Mode_transport=pd.get_dummies(df2.Mode_transport,prefix='Mode_transport')\n",
        "  comorbidity=pd.get_dummies(df2.comorbidity,prefix='comorbidity')\n",
        "  df2['Pulmonary_score'] = df2['Pulmonary score']\n",
        "  df2['cardiological_pressure'] = df2['cardiological pressure']\n",
        "  df2 = df2.drop(['Pulmonary score','cardiological pressure'],axis=1)\n",
        "  Pulmonary_score=pd.get_dummies(df2.Pulmonary_score,prefix='Pulmonary_score')\n",
        "  cardiological_pressure=pd.get_dummies(df2.cardiological_pressure,prefix='cardiological_pressure')\n",
        "  df2 = pd.concat([Gender,Occupation,Mode_transport,comorbidity,Pulmonary_score,cardiological_pressure,df2] , axis=1)\n",
        "  df2=df2.drop(['Region','Gender','Occupation','Mode_transport','comorbidity','Pulmonary_score','cardiological_pressure'],axis = 1)\n",
        "  df = df2\n",
        "  df=df.drop(['Designation', 'Name', 'Married', 'Children', 'Insurance', 'salary','people_ID'], axis = 1) \n",
        "  return df"
      ],
      "execution_count": 0,
      "outputs": []
    },
    {
      "cell_type": "code",
      "metadata": {
        "id": "0gLvyUUfo4IG",
        "colab_type": "code",
        "colab": {}
      },
      "source": [
        "testData = cleanData(testDataframe)"
      ],
      "execution_count": 0,
      "outputs": []
    },
    {
      "cell_type": "code",
      "metadata": {
        "id": "ILV4h9g_tslI",
        "colab_type": "code",
        "colab": {}
      },
      "source": [
        "testData.shape"
      ],
      "execution_count": 0,
      "outputs": []
    },
    {
      "cell_type": "code",
      "metadata": {
        "id": "dsWBntZx2F3A",
        "colab_type": "code",
        "colab": {}
      },
      "source": [
        "testData.head()"
      ],
      "execution_count": 0,
      "outputs": []
    },
    {
      "cell_type": "code",
      "metadata": {
        "id": "TotXqoooirgi",
        "colab_type": "code",
        "colab": {}
      },
      "source": [
        "df2 = dataframe\n",
        "df2.head()"
      ],
      "execution_count": 0,
      "outputs": []
    },
    {
      "cell_type": "code",
      "metadata": {
        "id": "9CQTg39FiyuF",
        "colab_type": "code",
        "colab": {}
      },
      "source": [
        "df2 = cleanData(df2)"
      ],
      "execution_count": 0,
      "outputs": []
    },
    {
      "cell_type": "code",
      "metadata": {
        "id": "L0nMFIehNa2Z",
        "colab_type": "code",
        "colab": {}
      },
      "source": [
        "df2.head()"
      ],
      "execution_count": 0,
      "outputs": []
    },
    {
      "cell_type": "code",
      "metadata": {
        "id": "uykkzlIyN54k",
        "colab_type": "code",
        "colab": {}
      },
      "source": [
        ""
      ],
      "execution_count": 0,
      "outputs": []
    },
    {
      "cell_type": "code",
      "metadata": {
        "id": "gN6__m9pojbx",
        "colab_type": "code",
        "colab": {}
      },
      "source": [
        ""
      ],
      "execution_count": 0,
      "outputs": []
    },
    {
      "cell_type": "code",
      "metadata": {
        "id": "nVSJB4QZp0dH",
        "colab_type": "code",
        "colab": {}
      },
      "source": [
        "#handeling na\n",
        "df2.isna().sum()"
      ],
      "execution_count": 0,
      "outputs": []
    },
    {
      "cell_type": "code",
      "metadata": {
        "id": "CciDQ3JyqGy-",
        "colab_type": "code",
        "colab": {}
      },
      "source": [
        "#to keep simple initially we are dropping all na columns\n",
        "df2 = df2.dropna() \n",
        "print('after dropping all na')\n",
        "df2.isna().sum()"
      ],
      "execution_count": 0,
      "outputs": []
    },
    {
      "cell_type": "code",
      "metadata": {
        "id": "UuxUYhTnbWjJ",
        "colab_type": "code",
        "colab": {}
      },
      "source": [
        "train_dataset = df2.sample(frac=0.9,random_state=0)\n",
        "test_dataset = df2.drop(train_dataset.index)\n",
        "print(len(train_dataset), 'train examples')\n",
        "print(len(test_dataset), 'validation examples')"
      ],
      "execution_count": 0,
      "outputs": []
    },
    {
      "cell_type": "code",
      "metadata": {
        "id": "fL9EIWPicJXx",
        "colab_type": "code",
        "colab": {}
      },
      "source": [
        "train_stats = train_dataset.describe()\n",
        "train_stats.pop(\"Infect_Prob\")\n",
        "train_stats = train_stats.transpose()\n",
        "train_stats"
      ],
      "execution_count": 0,
      "outputs": []
    },
    {
      "cell_type": "code",
      "metadata": {
        "id": "PoipK5NpuMR1",
        "colab_type": "code",
        "colab": {}
      },
      "source": [
        "train_labels = train_dataset.pop('Infect_Prob')\n",
        "test_labels = test_dataset.pop('Infect_Prob')"
      ],
      "execution_count": 0,
      "outputs": []
    },
    {
      "cell_type": "code",
      "metadata": {
        "id": "-SXDO3qmAfCr",
        "colab_type": "code",
        "colab": {}
      },
      "source": [
        "train_labels.head()"
      ],
      "execution_count": 0,
      "outputs": []
    },
    {
      "cell_type": "code",
      "metadata": {
        "id": "WnpxTbIVqsil",
        "colab_type": "code",
        "colab": {}
      },
      "source": [
        "def norm(x):\n",
        "  return (x - train_stats['mean']) / train_stats['std']\n",
        "normed_train_data = norm(train_dataset)\n",
        "normed_test_data = norm(test_dataset)"
      ],
      "execution_count": 0,
      "outputs": []
    },
    {
      "cell_type": "code",
      "metadata": {
        "id": "8YD7s6QSqt0u",
        "colab_type": "code",
        "colab": {}
      },
      "source": [
        "normed_train_data.head()"
      ],
      "execution_count": 0,
      "outputs": []
    },
    {
      "cell_type": "code",
      "metadata": {
        "id": "uSeJ8YXNuhm2",
        "colab_type": "code",
        "colab": {}
      },
      "source": [
        "def build_model():\n",
        "  model = keras.Sequential([\n",
        "    layers.Dense(64, activation='relu', input_shape=[len(normed_train_data.keys())]),\n",
        "    layers.Dense(32, activation='relu'),\n",
        "    layers.Dense(16, activation='relu'),\n",
        "    layers.Dense(1)\n",
        "  ])\n",
        "\n",
        "  optimizer = tf.keras.optimizers.RMSprop(0.0005)\n",
        "\n",
        "  model.compile(loss='mae',\n",
        "                optimizer=optimizer,\n",
        "                metrics=['mae', 'mse'])\n",
        "  return model"
      ],
      "execution_count": 0,
      "outputs": []
    },
    {
      "cell_type": "code",
      "metadata": {
        "id": "WJPlgnOGrQev",
        "colab_type": "code",
        "colab": {}
      },
      "source": [
        "model = build_model()"
      ],
      "execution_count": 0,
      "outputs": []
    },
    {
      "cell_type": "code",
      "metadata": {
        "id": "hIWRqVrUr67h",
        "colab_type": "code",
        "colab": {}
      },
      "source": [
        "model.summary()"
      ],
      "execution_count": 0,
      "outputs": []
    },
    {
      "cell_type": "code",
      "metadata": {
        "id": "jrOHPd0wsGx4",
        "colab_type": "code",
        "colab": {}
      },
      "source": [
        "example_batch = normed_train_data[:10]\n",
        "example_result = model.predict(example_batch)\n",
        "example_result"
      ],
      "execution_count": 0,
      "outputs": []
    },
    {
      "cell_type": "code",
      "metadata": {
        "id": "e4LoqUi_sM2B",
        "colab_type": "code",
        "colab": {}
      },
      "source": [
        "EPOCHS = 500\n",
        "history = model.fit(\n",
        "  train_dataset, train_labels,\n",
        "  epochs=EPOCHS, validation_split = 0.2, verbose=0,\n",
        "  callbacks=[tfdocs.modeling.EpochDots()])"
      ],
      "execution_count": 0,
      "outputs": []
    },
    {
      "cell_type": "code",
      "metadata": {
        "id": "oriqFjR_sf2t",
        "colab_type": "code",
        "colab": {}
      },
      "source": [
        "import matplotlib.pyplot as plt"
      ],
      "execution_count": 0,
      "outputs": []
    },
    {
      "cell_type": "code",
      "metadata": {
        "id": "ZsGDE4vKt5GW",
        "colab_type": "code",
        "colab": {}
      },
      "source": [
        "plotter = tfdocs.plots.HistoryPlotter(smoothing_std=2)"
      ],
      "execution_count": 0,
      "outputs": []
    },
    {
      "cell_type": "code",
      "metadata": {
        "id": "tQ3p0ELRwKaH",
        "colab_type": "code",
        "colab": {}
      },
      "source": [
        "plotter.plot({'Basic': history}, metric = \"mae\")\n",
        "plt.ylim([0, 10])\n",
        "plt.ylabel('MAE [Infect_Prob]')"
      ],
      "execution_count": 0,
      "outputs": []
    },
    {
      "cell_type": "code",
      "metadata": {
        "id": "8TgBXCkCwuCe",
        "colab_type": "code",
        "colab": {}
      },
      "source": [
        "plotter.plot({'Basic': history}, metric = \"mse\")\n",
        "plt.ylim([0, 200])\n",
        "plt.ylabel('MSE [Infect_prob^2]')"
      ],
      "execution_count": 0,
      "outputs": []
    },
    {
      "cell_type": "code",
      "metadata": {
        "id": "z7FOPvKVw84b",
        "colab_type": "code",
        "colab": {}
      },
      "source": [
        "test_predictions = model.predict(test_dataset).flatten()\n",
        "a = plt.axes(aspect='equal')\n",
        "plt.scatter(test_labels, test_predictions)\n",
        "plt.xlabel('True Values [Infect_prob]')\n",
        "plt.ylabel('Predictions [Infect_prob]')\n",
        "lims = [0, 100]\n",
        "plt.xlim(lims)\n",
        "plt.ylim(lims)\n",
        "_ = plt.plot(lims, lims)"
      ],
      "execution_count": 0,
      "outputs": []
    },
    {
      "cell_type": "code",
      "metadata": {
        "id": "YUxP7T3ZxolQ",
        "colab_type": "code",
        "colab": {}
      },
      "source": [
        "error = test_predictions - test_labels\n",
        "plt.hist(error, bins = 25)\n",
        "plt.xlabel(\"Prediction Error [Infect_prob]\")\n",
        "_ = plt.ylabel(\"Count\")"
      ],
      "execution_count": 0,
      "outputs": []
    },
    {
      "cell_type": "code",
      "metadata": {
        "id": "MsOHlhK3VshD",
        "colab_type": "code",
        "colab": {}
      },
      "source": [
        "ans = model.predict(testData)"
      ],
      "execution_count": 0,
      "outputs": []
    },
    {
      "cell_type": "code",
      "metadata": {
        "id": "strFu4EOwGbS",
        "colab_type": "code",
        "colab": {}
      },
      "source": [
        "# Creating an empty Dataframe with column names only\n",
        "dfObj = pd.DataFrame(columns=['people_ID', 'infect_prob'])"
      ],
      "execution_count": 0,
      "outputs": []
    },
    {
      "cell_type": "code",
      "metadata": {
        "id": "K9Ok0MhxwTDj",
        "colab_type": "code",
        "colab": {}
      },
      "source": [
        "peopleIdArr = peopleId.to_numpy()"
      ],
      "execution_count": 0,
      "outputs": []
    },
    {
      "cell_type": "code",
      "metadata": {
        "id": "5EG93O5muuKs",
        "colab_type": "code",
        "colab": {}
      },
      "source": [
        "k = 0\n",
        "while(k< len(peopleIdArr)):\n",
        "  i = int(peopleIdArr[k])\n",
        "  j = ans[k][0]\n",
        "  dfObj = dfObj.append({'people_ID': i,'infect_prob':j}, ignore_index=True)\n",
        "  k+=1\n",
        "dfObj.head()"
      ],
      "execution_count": 0,
      "outputs": []
    },
    {
      "cell_type": "code",
      "metadata": {
        "id": "zoEsUsyH7_nv",
        "colab_type": "code",
        "colab": {}
      },
      "source": [
        "dfObj2 = dfObj.astype({'people_ID': int,'infect_prob':float})\n",
        "dfObj2.head()"
      ],
      "execution_count": 0,
      "outputs": []
    },
    {
      "cell_type": "code",
      "metadata": {
        "id": "y46OCqE8_YUJ",
        "colab_type": "code",
        "colab": {}
      },
      "source": [
        "dfObj2.to_csv(r'/content/prob1.csv', index=False) "
      ],
      "execution_count": 0,
      "outputs": []
    },
    {
      "cell_type": "code",
      "metadata": {
        "id": "6hZkx8tD_dtc",
        "colab_type": "code",
        "colab": {}
      },
      "source": [
        "  from google.colab import files\n",
        "  files.download(\"/content/prob1.csv\")"
      ],
      "execution_count": 0,
      "outputs": []
    },
    {
      "cell_type": "code",
      "metadata": {
        "id": "4J1-6aQHCu3C",
        "colab_type": "code",
        "colab": {}
      },
      "source": [
        ""
      ],
      "execution_count": 0,
      "outputs": []
    }
  ]
}